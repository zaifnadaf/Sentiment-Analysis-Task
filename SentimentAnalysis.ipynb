{
 "cells": [
  {
   "cell_type": "code",
   "execution_count": 7,
   "id": "e02d560c-b64a-4944-9b55-915a4922a3c4",
   "metadata": {},
   "outputs": [
    {
     "name": "stdout",
     "output_type": "stream",
     "text": [
      "Accuracy: 0.87784\n",
      "Classification Report:\n",
      "               precision    recall  f1-score   support\n",
      "\n",
      "           0       0.88      0.87      0.88     12500\n",
      "           1       0.88      0.88      0.88     12500\n",
      "\n",
      "    accuracy                           0.88     25000\n",
      "   macro avg       0.88      0.88      0.88     25000\n",
      "weighted avg       0.88      0.88      0.88     25000\n",
      "\n"
     ]
    },
    {
     "name": "stdin",
     "output_type": "stream",
     "text": [
      "Enter a review (or type 'exit' to quit):  great\n"
     ]
    },
    {
     "name": "stdout",
     "output_type": "stream",
     "text": [
      "Predicted Sentiment: Positive\n"
     ]
    },
    {
     "name": "stdin",
     "output_type": "stream",
     "text": [
      "Enter a review (or type 'exit' to quit):  worst\n"
     ]
    },
    {
     "name": "stdout",
     "output_type": "stream",
     "text": [
      "Predicted Sentiment: Negative\n"
     ]
    },
    {
     "name": "stdin",
     "output_type": "stream",
     "text": [
      "Enter a review (or type 'exit' to quit):  neutral\n"
     ]
    },
    {
     "name": "stdout",
     "output_type": "stream",
     "text": [
      "Predicted Sentiment: Positive\n"
     ]
    },
    {
     "name": "stderr",
     "output_type": "stream",
     "text": [
      "\n",
      "KeyboardInterrupt\n",
      "\n"
     ]
    }
   ],
   "source": [
    "import os\n",
    "import numpy as np\n",
    "import pandas as pd\n",
    "from sklearn.feature_extraction.text import TfidfVectorizer\n",
    "from sklearn.model_selection import train_test_split\n",
    "from sklearn.linear_model import LogisticRegression\n",
    "from sklearn.metrics import classification_report, accuracy_score\n",
    "\n",
    "# Step 1: Load the Dataset\n",
    "# Define the dataset path\n",
    "DATASET_PATH = r\"C:\\Users\\nadaf\\OneDrive\\Desktop\\Quantbit\\aclImdb\"\n",
    "\n",
    "def load_data(dataset_path):\n",
    "    reviews = []\n",
    "    labels = []\n",
    "\n",
    "    for label_type in ['pos', 'neg']:\n",
    "        dir_name = os.path.join(dataset_path, label_type)\n",
    "        for file_name in os.listdir(dir_name):\n",
    "            if file_name.endswith(\".txt\"):\n",
    "                with open(os.path.join(dir_name, file_name), encoding=\"utf-8\") as f:\n",
    "                    reviews.append(f.read())\n",
    "                labels.append(1 if label_type == 'pos' else 0)\n",
    "\n",
    "    return reviews, labels\n",
    "\n",
    "# Load train and test data\n",
    "train_data, train_labels = load_data(os.path.join(DATASET_PATH, 'train'))\n",
    "test_data, test_labels = load_data(os.path.join(DATASET_PATH, 'test'))\n",
    "\n",
    "# Step 2: Preprocess and Vectorize Text Data\n",
    "vectorizer = TfidfVectorizer(stop_words='english', max_features=5000)\n",
    "\n",
    "# Fit on train data and transform both train and test data\n",
    "X_train = vectorizer.fit_transform(train_data)\n",
    "X_test = vectorizer.transform(test_data)\n",
    "\n",
    "y_train = np.array(train_labels)\n",
    "y_test = np.array(test_labels)\n",
    "\n",
    "# Step 3: Train a Logistic Regression Model\n",
    "model = LogisticRegression(max_iter=1000)\n",
    "model.fit(X_train, y_train)\n",
    "\n",
    "# Step 4: Evaluate the Model\n",
    "predictions = model.predict(X_test)\n",
    "\n",
    "print(\"Accuracy:\", accuracy_score(y_test, predictions))\n",
    "print(\"Classification Report:\\n\", classification_report(y_test, predictions))\n",
    "\n",
    "# Step 5: Test with Custom Input\n",
    "while True:\n",
    "    review = input(\"Enter a review (or type 'exit' to quit): \")\n",
    "    if review.lower() == 'exit':\n",
    "        break\n",
    "    review_vec = vectorizer.transform([review])\n",
    "    prediction = model.predict(review_vec)\n",
    "    sentiment = \"Positive\" if prediction[0] == 1 else \"Negative\"\n",
    "    print(f\"Predicted Sentiment: {sentiment}\")\n"
   ]
  },
  {
   "cell_type": "code",
   "execution_count": null,
   "id": "a90dbcbe-8e5a-4039-a350-e63209ab30a0",
   "metadata": {},
   "outputs": [],
   "source": [
    "import os\n",
    "import numpy as np\n",
    "from sklearn.feature_extraction.text import TfidfVectorizer\n",
    "from sklearn.linear_model import LogisticRegression\n",
    "from sklearn.metrics import accuracy_score, classification_report\n",
    "\n",
    "# Define the dataset path\n",
    "DATASET_PATH = r\"C:\\Users\\nadaf\\OneDrive\\Desktop\\Quantbit\\aclImdb\"\n",
    "\n",
    "# Function to load data from the dataset\n",
    "def load_data(dataset_path):\n",
    "    \"\"\"\n",
    "    Reads text files from the dataset directory, categorizes them as positive or negative, and returns them.\n",
    "    \"\"\"\n",
    "    reviews = []  # List to store review texts\n",
    "    labels = []   # List to store corresponding labels (1 for positive, 0 for negative)\n",
    "\n",
    "    for label_type in ['pos', 'neg']:  # Iterate over positive and negative reviews\n",
    "        dir_name = os.path.join(dataset_path, label_type)  # Path to the specific folder\n",
    "        for file_name in os.listdir(dir_name):  # Iterate over all files in the folder\n",
    "            if file_name.endswith(\".txt\"):  # Ensure the file is a text file\n",
    "                with open(os.path.join(dir_name, file_name), encoding=\"utf-8\") as f:\n",
    "                    reviews.append(f.read())  # Append the review text\n",
    "                labels.append(1 if label_type == 'pos' else 0)  # Append 1 for positive, 0 for negative\n",
    "\n",
    "    return reviews, labels\n",
    "\n",
    "# Load train and test data\n",
    "train_data, train_labels = load_data(os.path.join(DATASET_PATH, 'train'))  # Training data\n",
    "test_data, test_labels = load_data(os.path.join(DATASET_PATH, 'test'))    # Test data\n",
    "\n",
    "# Convert text data to numerical data using TF-IDF\n",
    "vectorizer = TfidfVectorizer(stop_words='english', max_features=5000)  # Use TF-IDF to extract top 5000 features\n",
    "X_train = vectorizer.fit_transform(train_data)  # Fit and transform training data\n",
    "X_test = vectorizer.transform(test_data)        # Transform test data using the same vectorizer\n",
    "\n",
    "y_train = np.array(train_labels)  # Convert training labels to a NumPy array\n",
    "y_test = np.array(test_labels)    # Convert test labels to a NumPy array\n",
    "\n",
    "# Train a Logistic Regression model\n",
    "model = LogisticRegression(max_iter=1000)  # Initialize Logistic Regression with a high iteration limit\n",
    "model.fit(X_train, y_train)  # Train the model on training data\n",
    "\n",
    "# Predict on test data\n",
    "predictions = model.predict(X_test)  # Get predictions for the test data\n",
    "\n",
    "# Evaluate the model\n",
    "print(\"Accuracy:\", accuracy_score(y_test, predictions))  # Print accuracy of the model\n",
    "print(\"Classification Report:\\n\", classification_report(y_test, predictions))  # Print detailed performance metrics\n",
    "\n",
    "# Interactive test for user-provided reviews\n",
    "while True:\n",
    "    review = input(\"Enter a review (or type 'exit' to quit): \")  # Prompt user for input\n",
    "    if review.lower() == 'exit':  # Exit the loop if user types 'exit'\n",
    "        break\n",
    "    review_vec = vectorizer.transform([review])  # Transform the review into numerical features\n",
    "    prediction = model.predict(review_vec)  # Predict sentiment for the review\n",
    "    sentiment = \"Positive\" if prediction[0] == 1 else \"Negative\"  # Interpret prediction\n",
    "    print(f\"Predicted Sentiment: {sentiment}\")  # Display the result\n"
   ]
  },
  {
   "cell_type": "code",
   "execution_count": 23,
   "id": "704ac39d-41c9-4ce6-bd2d-96e11190eca6",
   "metadata": {},
   "outputs": [
    {
     "name": "stdout",
     "output_type": "stream",
     "text": [
      "Data saved to movie_reviews.csv\n",
      "Accuracy: 0.8852\n",
      "Classification Report:\n",
      "               precision    recall  f1-score   support\n",
      "\n",
      "           0       0.89      0.88      0.88      4973\n",
      "           1       0.88      0.90      0.89      5027\n",
      "\n",
      "    accuracy                           0.89     10000\n",
      "   macro avg       0.89      0.89      0.89     10000\n",
      "weighted avg       0.89      0.89      0.89     10000\n",
      "\n"
     ]
    }
   ],
   "source": [
    "import os\n",
    "import pandas as pd\n",
    "from sklearn.feature_extraction.text import TfidfVectorizer\n",
    "from sklearn.linear_model import LogisticRegression\n",
    "from sklearn.metrics import accuracy_score, classification_report\n",
    "\n",
    "# Path to the dataset\n",
    "DATASET_PATH = r\"C:\\Users\\nadaf\\OneDrive\\Desktop\\Quantbit\\aclImdb\"\n",
    "\n",
    "# Function to load data and save it to a CSV file\n",
    "def load_and_save_data(dataset_path, output_csv):\n",
    "    \"\"\"Load reviews and labels from text files and save to a CSV file.\"\"\"\n",
    "    # Initialize lists for reviews and labels\n",
    "    reviews=[]\n",
    "    labels = []\n",
    "\n",
    "    for dataset_type in ['train', 'test']:\n",
    "        for label_type in ['pos', 'neg']:\n",
    "            folder_path = os.path.join(dataset_path, dataset_type, label_type)\n",
    "            if not os.path.exists(folder_path):\n",
    "                raise FileNotFoundError(f\"Folder not found: {folder_path}\")\n",
    "\n",
    "            for file_name in os.listdir(folder_path):\n",
    "                if file_name.endswith(\".txt\"):\n",
    "                    with open(os.path.join(folder_path, file_name), encoding=\"utf-8\") as file:\n",
    "                        reviews.append(file.read())\n",
    "                    labels.append(1 if label_type == 'pos' else 0)\n",
    "\n",
    "    # Save the data to a CSV file\n",
    "    data = pd.DataFrame({\"review\": reviews, \"label\": labels})\n",
    "    data.to_csv(output_csv, index=False)\n",
    "    return data\n",
    "\n",
    "# Save reviews and labels to a CSV file\n",
    "output_csv = \"movie_reviews.csv\"\n",
    "data = load_and_save_data(DATASET_PATH, output_csv)\n",
    "print(f\"Data saved to {output_csv}\")\n",
    "\n",
    "# Load data from the CSV file\n",
    "data = pd.read_csv(output_csv)\n",
    "\n",
    "# Split data into training and testing sets\n",
    "train_data = data.sample(frac=0.8, random_state=42)\n",
    "test_data = data.drop(train_data.index)\n",
    "\n",
    "# Separate features (reviews) and labels\n",
    "X_train, y_train = train_data[\"review\"], train_data[\"label\"]\n",
    "X_test, y_test = test_data[\"review\"], test_data[\"label\"]\n",
    "\n",
    "# Convert text data to numerical format using TF-IDF\n",
    "vectorizer = TfidfVectorizer(stop_words='english', max_features=5000)\n",
    "X_train_vec = vectorizer.fit_transform(X_train)\n",
    "X_test_vec = vectorizer.transform(X_test)\n",
    "\n",
    "# Train a logistic regression model\n",
    "model = LogisticRegression(max_iter=1000)\n",
    "model.fit(X_train_vec, y_train)\n",
    "\n",
    "# Evaluate the model\n",
    "predictions = model.predict(X_test_vec)\n",
    "print(\"Accuracy:\", accuracy_score(y_test, predictions))\n",
    "print(\"Classification Report:\\n\", classification_report(y_test, predictions))\n"
   ]
  },
  {
   "cell_type": "code",
   "execution_count": 21,
   "id": "b5af79c5-3d89-459f-b517-788a2c699dab",
   "metadata": {},
   "outputs": [
    {
     "name": "stdin",
     "output_type": "stream",
     "text": [
      "Enter a review:  good\n"
     ]
    },
    {
     "name": "stdout",
     "output_type": "stream",
     "text": [
      "Predicted Sentiment: Positive\n"
     ]
    }
   ],
   "source": [
    "# Test with a single user-provided review\n",
    "review = input(\"Enter a review: \")  # Prompt user for a single input\n",
    "review_vec = vectorizer.transform([review])  # Transform the review into numerical features\n",
    "prediction = model.predict(review_vec)  # Predict sentiment for the review\n",
    "\n",
    "# Interpret the prediction\n",
    "if prediction[0] == 1:\n",
    "    sentiment = \"Positive\"\n",
    "else:\n",
    "    sentiment = \"Negative\"\n",
    "\n",
    "# Display the result\n",
    "print(f\"Predicted Sentiment: {sentiment}\")  # Display the result\n"
   ]
  },
  {
   "cell_type": "code",
   "execution_count": null,
   "id": "414d1aca-301b-4deb-80c1-367a2a373c31",
   "metadata": {},
   "outputs": [],
   "source": []
  }
 ],
 "metadata": {
  "kernelspec": {
   "display_name": "Python 3 (ipykernel)",
   "language": "python",
   "name": "python3"
  },
  "language_info": {
   "codemirror_mode": {
    "name": "ipython",
    "version": 3
   },
   "file_extension": ".py",
   "mimetype": "text/x-python",
   "name": "python",
   "nbconvert_exporter": "python",
   "pygments_lexer": "ipython3",
   "version": "3.12.3"
  }
 },
 "nbformat": 4,
 "nbformat_minor": 5
}
