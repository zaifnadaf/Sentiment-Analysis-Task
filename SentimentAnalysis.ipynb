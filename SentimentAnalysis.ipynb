{
 "cells": [
  {
   "cell_type": "code",
   "execution_count": 12,
   "id": "704ac39d-41c9-4ce6-bd2d-96e11190eca6",
   "metadata": {},
   "outputs": [
    {
     "name": "stdout",
     "output_type": "stream",
     "text": [
      "Data saved to movie_reviews.csv\n"
     ]
    }
   ],
   "source": [
    "import os\n",
    "import pandas as pd\n",
    "\n",
    "# Dataset Path\n",
    "DATASET_PATH = r\"C:\\Users\\nadaf\\OneDrive\\Desktop\\Quantbit\\aclImdb\"\n",
    "\n",
    "def save_data(dataset_path, output_csv):\n",
    "    reviews=[]\n",
    "    labels = []\n",
    "\n",
    "    for dataset_type in ['train', 'test']:\n",
    "        for label_type in ['pos', 'neg']:\n",
    "            folder_path = os.path.join(dataset_path, dataset_type, label_type)\n",
    "            if not os.path.exists(folder_path):\n",
    "                raise FileNotFoundError(f\"Folder not found: {folder_path}\")\n",
    "\n",
    "            for file_name in os.listdir(folder_path):\n",
    "                if file_name.endswith(\".txt\"):\n",
    "                    with open(os.path.join(folder_path, file_name), encoding=\"utf-8\") as file:\n",
    "                        reviews.append(file.read())\n",
    "                    labels.append(1 if label_type == 'pos' else 0)\n",
    "\n",
    "    # Save the data to a CSV file\n",
    "    data = pd.DataFrame({\"review\": reviews, \"label\": labels})\n",
    "    data.to_csv(output_csv, index=False)\n",
    "    return data\n",
    "\n",
    "# Save reviews and labels to a CSV file\n",
    "output_csv = \"movie_reviews.csv\"\n",
    "data = save_data(DATASET_PATH, output_csv)\n",
    "print(f\"Data saved to {output_csv}\")\n",
    "\n",
    "\n"
   ]
  },
  {
   "cell_type": "code",
   "execution_count": 14,
   "id": "ed46cb6b-9906-4849-8281-eae8e560e4a6",
   "metadata": {},
   "outputs": [
    {
     "name": "stdout",
     "output_type": "stream",
     "text": [
      "Accuracy: 0.8852\n",
      "Classification Report:\n",
      "               precision    recall  f1-score   support\n",
      "\n",
      "           0       0.89      0.88      0.88      4973\n",
      "           1       0.88      0.90      0.89      5027\n",
      "\n",
      "    accuracy                           0.89     10000\n",
      "   macro avg       0.89      0.89      0.89     10000\n",
      "weighted avg       0.89      0.89      0.89     10000\n",
      "\n"
     ]
    }
   ],
   "source": [
    "from sklearn.feature_extraction.text import TfidfVectorizer\n",
    "from sklearn.linear_model import LogisticRegression\n",
    "from sklearn.metrics import accuracy_score, classification_report\n",
    "\n",
    "# Load data from the CSV file\n",
    "data = pd.read_csv(output_csv)\n",
    "\n",
    "# Split data into training and testing sets\n",
    "train_data = data.sample(frac=0.8, random_state=42)\n",
    "test_data = data.drop(train_data.index)\n",
    "\n",
    "# Separate features (reviews) and labels\n",
    "X_train, y_train = train_data[\"review\"], train_data[\"label\"]\n",
    "X_test, y_test = test_data[\"review\"], test_data[\"label\"]\n",
    "\n",
    "# Convert text data to numerical format using TF-IDF\n",
    "vectorizer = TfidfVectorizer(stop_words='english', max_features=5000)\n",
    "X_train_vec = vectorizer.fit_transform(X_train)\n",
    "X_test_vec = vectorizer.transform(X_test)\n",
    "\n",
    "# Train a logistic regression model\n",
    "model = LogisticRegression(max_iter=1000)\n",
    "model.fit(X_train_vec, y_train)\n",
    "\n",
    "# Evaluate the model\n",
    "predictions = model.predict(X_test_vec)\n",
    "print(\"Accuracy:\", accuracy_score(y_test, predictions))\n",
    "print(\"Classification Report:\\n\", classification_report(y_test, predictions))\n",
    "\n"
   ]
  },
  {
   "cell_type": "code",
   "execution_count": 19,
   "id": "042eec87-9acd-461e-aaf9-d6a16847d046",
   "metadata": {},
   "outputs": [
    {
     "name": "stdin",
     "output_type": "stream",
     "text": [
      "Enter a review:  The movie is good\n"
     ]
    },
    {
     "name": "stdout",
     "output_type": "stream",
     "text": [
      "Sentiment is  Positive\n"
     ]
    }
   ],
   "source": [
    "review = input(\"Enter a review: \")  # Input String\n",
    "review_vec = vectorizer.transform([review])  # Transform the review into numerical features\n",
    "prediction = model.predict(review_vec)  # Predict sentiment for the review\n",
    "\n",
    "if prediction[0] == 1:\n",
    "    sentiment = \"Positive\"\n",
    "else:\n",
    "    sentiment = \"Negative\"\n",
    "\n",
    "print(f\"Sentiment is  {sentiment}\") \n"
   ]
  },
  {
   "cell_type": "code",
   "execution_count": null,
   "id": "5251ab28-bad4-4ead-a814-95e150c1cdb0",
   "metadata": {},
   "outputs": [],
   "source": []
  }
 ],
 "metadata": {
  "kernelspec": {
   "display_name": "Python 3 (ipykernel)",
   "language": "python",
   "name": "python3"
  },
  "language_info": {
   "codemirror_mode": {
    "name": "ipython",
    "version": 3
   },
   "file_extension": ".py",
   "mimetype": "text/x-python",
   "name": "python",
   "nbconvert_exporter": "python",
   "pygments_lexer": "ipython3",
   "version": "3.12.3"
  }
 },
 "nbformat": 4,
 "nbformat_minor": 5
}
